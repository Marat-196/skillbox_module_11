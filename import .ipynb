{
 "cells": [
  {
   "cell_type": "code",
   "execution_count": 2,
   "id": "f19d5f27",
   "metadata": {},
   "outputs": [],
   "source": [
    "import math"
   ]
  },
  {
   "cell_type": "code",
   "execution_count": 3,
   "id": "c62b770b",
   "metadata": {},
   "outputs": [
    {
     "data": {
      "text/plain": [
       "3.141592653589793"
      ]
     },
     "execution_count": 3,
     "metadata": {},
     "output_type": "execute_result"
    }
   ],
   "source": [
    "math.pi"
   ]
  },
  {
   "cell_type": "code",
   "execution_count": 13,
   "id": "f29586ac",
   "metadata": {},
   "outputs": [
    {
     "name": "stdout",
     "output_type": "stream",
     "text": [
      "Collecting cowsay\n",
      "  Obtaining dependency information for cowsay from https://files.pythonhosted.org/packages/f1/13/63c0a02c44024ee16f664e0b36eefeb22d54e93531630bd99e237986f534/cowsay-6.1-py3-none-any.whl.metadata\n",
      "  Downloading cowsay-6.1-py3-none-any.whl.metadata (5.6 kB)\n",
      "Downloading cowsay-6.1-py3-none-any.whl (25 kB)\n",
      "Installing collected packages: cowsay\n",
      "Successfully installed cowsay-6.1\n"
     ]
    }
   ],
   "source": [
    "!pip install cowsay"
   ]
  },
  {
   "cell_type": "code",
   "execution_count": 16,
   "id": "ce87b9cf",
   "metadata": {},
   "outputs": [],
   "source": [
    "import cowsay"
   ]
  },
  {
   "cell_type": "code",
   "execution_count": 17,
   "id": "ba2600eb",
   "metadata": {},
   "outputs": [
    {
     "name": "stdout",
     "output_type": "stream",
     "text": [
      "  _________________\n",
      "| 3.141592653589793 |\n",
      "  =================\n",
      "                 \\\n",
      "                  \\\n",
      "                    ^__^\n",
      "                    (oo)\\_______\n",
      "                    (__)\\       )\\/\\\n",
      "                        ||----w |\n",
      "                        ||     ||\n"
     ]
    }
   ],
   "source": [
    "cowsay.cow(str(math.pi))"
   ]
  },
  {
   "cell_type": "code",
   "execution_count": null,
   "id": "401debd1",
   "metadata": {},
   "outputs": [],
   "source": []
  }
 ],
 "metadata": {
  "kernelspec": {
   "display_name": "Python 3 (ipykernel)",
   "language": "python",
   "name": "python3"
  },
  "language_info": {
   "codemirror_mode": {
    "name": "ipython",
    "version": 3
   },
   "file_extension": ".py",
   "mimetype": "text/x-python",
   "name": "python",
   "nbconvert_exporter": "python",
   "pygments_lexer": "ipython3",
   "version": "3.11.5"
  }
 },
 "nbformat": 4,
 "nbformat_minor": 5
}
